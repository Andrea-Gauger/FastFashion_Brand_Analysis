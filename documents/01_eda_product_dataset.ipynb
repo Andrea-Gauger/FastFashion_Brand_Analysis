{
 "cells": [
  {
   "cell_type": "markdown",
   "metadata": {},
   "source": []
  },
  {
   "cell_type": "code",
   "execution_count": 1,
   "metadata": {},
   "outputs": [],
   "source": [
    "# Tratamiento de datos\n",
    "import pandas as pd\n",
    "import numpy as np\n",
    "\n",
    "# Visualización\n",
    "import matplotlib.pyplot as plt\n",
    "import seaborn as sns\n",
    "\n",
    "# Configuración\n",
    "pd.set_option('display.max_columns', None) # para poder visualizar todas las columnas de los DataFrames"
   ]
  },
  {
   "cell_type": "code",
   "execution_count": 2,
   "metadata": {},
   "outputs": [],
   "source": [
    "def apertura_exploracion(csv):\n",
    "\n",
    "    \"\"\" Función para leer csv, convertir a df y hacer una primera exploración.\"\"\"\n",
    "    \n",
    "    try:\n",
    "        # Convertir el csv a DataFrame\n",
    "        df = pd.read_csv(f\"../files/{csv}.csv\")        \n",
    "\n",
    "        # Muestro las primeras filas\n",
    "        display(df.head())\n",
    "\n",
    "        # Obtengo las listas\n",
    "        print(f\"-----\\n\\nEl DataFrame tiene {df.shape[0]} filas y {df.shape[1]} columnas.\\n-----\")\n",
    "\n",
    "        # Consulto si hay filas duplicadas\n",
    "        print(f\"\\nEl número de filas duplicadas es {df.duplicated().sum()}\\n-----\")\n",
    "\n",
    "        # Muestro el tipo de dato y si hay nulos por cada columna\n",
    "        print(\"\\nInformación del DataFrame:\")\n",
    "        df.info()\n",
    "\n",
    "        # Muestro las estadísticas de columnas numéricas\n",
    "        print(\"-----\\n\\nEstadísticas descriptivas:\")\n",
    "        display(df.describe().T)\n",
    "\n",
    "        # Me devuelve un df que tendré que igualar a una variable\n",
    "        return df  \n",
    "\n",
    "    # Excepciones en caso de no enconrar el archivo o de que haya un error\n",
    "    except FileNotFoundError:\n",
    "        print(f\"Error: No se encontró el archivo '../files/{csv}.csv'.\")\n",
    "        return None  \n",
    "    \n",
    "    except Exception as e:\n",
    "        print(f\"Ocurrió un error: {e}\")\n",
    "        return None \n",
    "    "
   ]
  },
  {
   "cell_type": "code",
   "execution_count": 3,
   "metadata": {},
   "outputs": [
    {
     "data": {
      "text/html": [
       "<div>\n",
       "<style scoped>\n",
       "    .dataframe tbody tr th:only-of-type {\n",
       "        vertical-align: middle;\n",
       "    }\n",
       "\n",
       "    .dataframe tbody tr th {\n",
       "        vertical-align: top;\n",
       "    }\n",
       "\n",
       "    .dataframe thead th {\n",
       "        text-align: right;\n",
       "    }\n",
       "</style>\n",
       "<table border=\"1\" class=\"dataframe\">\n",
       "  <thead>\n",
       "    <tr style=\"text-align: right;\">\n",
       "      <th></th>\n",
       "      <th>Unnamed: 0</th>\n",
       "      <th>productId</th>\n",
       "      <th>productName</th>\n",
       "      <th>brandName</th>\n",
       "      <th>url</th>\n",
       "      <th>price</th>\n",
       "      <th>stockState</th>\n",
       "      <th>comingSoon</th>\n",
       "      <th>colorName</th>\n",
       "      <th>isOnline</th>\n",
       "      <th>colors</th>\n",
       "      <th>colorShades</th>\n",
       "      <th>newArrival</th>\n",
       "      <th>mainCatCode</th>\n",
       "      <th>details</th>\n",
       "      <th>materials</th>\n",
       "    </tr>\n",
       "  </thead>\n",
       "  <tbody>\n",
       "    <tr>\n",
       "      <th>0</th>\n",
       "      <td>0</td>\n",
       "      <td>834333001</td>\n",
       "      <td>Derby Shoes</td>\n",
       "      <td>H&amp;M</td>\n",
       "      <td>https://www2.hm.com/en_us/productpage.08343330...</td>\n",
       "      <td>49.99</td>\n",
       "      <td>Available</td>\n",
       "      <td>False</td>\n",
       "      <td>Black</td>\n",
       "      <td>True</td>\n",
       "      <td>272628</td>\n",
       "      <td>Charcoal</td>\n",
       "      <td>False</td>\n",
       "      <td>men_shoes_dressed</td>\n",
       "      <td>Derby shoes with open lacing at front. Canvas ...</td>\n",
       "      <td>COMPOSITION\\nSole:Thermoplastic rubber 100%\\nU...</td>\n",
       "    </tr>\n",
       "    <tr>\n",
       "      <th>1</th>\n",
       "      <td>1</td>\n",
       "      <td>1258600003</td>\n",
       "      <td>Pile-Lined Slippers</td>\n",
       "      <td>H&amp;M</td>\n",
       "      <td>https://www2.hm.com/en_us/productpage.12586000...</td>\n",
       "      <td>24.99</td>\n",
       "      <td>Available</td>\n",
       "      <td>False</td>\n",
       "      <td>Black</td>\n",
       "      <td>True</td>\n",
       "      <td>272628</td>\n",
       "      <td>Charcoal</td>\n",
       "      <td>False</td>\n",
       "      <td>men_shoes_slippers</td>\n",
       "      <td>Slippers in napped fabric. Decorative seam at ...</td>\n",
       "      <td>COMPOSITION\\nLining:Polyester 100%\\nUpper:Poly...</td>\n",
       "    </tr>\n",
       "    <tr>\n",
       "      <th>2</th>\n",
       "      <td>2</td>\n",
       "      <td>1036812001</td>\n",
       "      <td>Derby Shoes</td>\n",
       "      <td>H&amp;M</td>\n",
       "      <td>https://www2.hm.com/en_us/productpage.10368120...</td>\n",
       "      <td>56.99</td>\n",
       "      <td>Available</td>\n",
       "      <td>False</td>\n",
       "      <td>Black</td>\n",
       "      <td>True</td>\n",
       "      <td>272628</td>\n",
       "      <td>Charcoal</td>\n",
       "      <td>False</td>\n",
       "      <td>men_shoes_dressed</td>\n",
       "      <td>Derby shoes in soft faux suede with open lacin...</td>\n",
       "      <td>COMPOSITION\\nLining and insole:Cotton 100%\\nUp...</td>\n",
       "    </tr>\n",
       "    <tr>\n",
       "      <th>3</th>\n",
       "      <td>3</td>\n",
       "      <td>1112924002</td>\n",
       "      <td>Fleece-lined Slippers</td>\n",
       "      <td>H&amp;M</td>\n",
       "      <td>https://www2.hm.com/en_us/productpage.11129240...</td>\n",
       "      <td>29.99</td>\n",
       "      <td>Available</td>\n",
       "      <td>False</td>\n",
       "      <td>Dark blue</td>\n",
       "      <td>True</td>\n",
       "      <td>393B47</td>\n",
       "      <td>Bright blue|Cobalt blue|Dark blue|Indigo|Navy ...</td>\n",
       "      <td>False</td>\n",
       "      <td>men_shoes_slippers</td>\n",
       "      <td>Slippers in woven fabric with a moccasin seam ...</td>\n",
       "      <td>COMPOSITION\\nLining:Polyester 100%\\nUpper:Poly...</td>\n",
       "    </tr>\n",
       "    <tr>\n",
       "      <th>4</th>\n",
       "      <td>4</td>\n",
       "      <td>1119476020</td>\n",
       "      <td>Sneakers</td>\n",
       "      <td>H&amp;M</td>\n",
       "      <td>https://www2.hm.com/en_us/productpage.11194760...</td>\n",
       "      <td>29.99</td>\n",
       "      <td>Available</td>\n",
       "      <td>False</td>\n",
       "      <td>White</td>\n",
       "      <td>True</td>\n",
       "      <td>FFFFFF</td>\n",
       "      <td>NaN</td>\n",
       "      <td>False</td>\n",
       "      <td>men_shoes_sneakers</td>\n",
       "      <td>Sneakers with a padded upper edge and tongue, ...</td>\n",
       "      <td>COMPOSITION\\nLining:Polyester 100%\\nUpper:Poly...</td>\n",
       "    </tr>\n",
       "  </tbody>\n",
       "</table>\n",
       "</div>"
      ],
      "text/plain": [
       "   Unnamed: 0   productId            productName brandName  \\\n",
       "0           0   834333001            Derby Shoes       H&M   \n",
       "1           1  1258600003    Pile-Lined Slippers       H&M   \n",
       "2           2  1036812001            Derby Shoes       H&M   \n",
       "3           3  1112924002  Fleece-lined Slippers       H&M   \n",
       "4           4  1119476020               Sneakers       H&M   \n",
       "\n",
       "                                                 url  price stockState  \\\n",
       "0  https://www2.hm.com/en_us/productpage.08343330...  49.99  Available   \n",
       "1  https://www2.hm.com/en_us/productpage.12586000...  24.99  Available   \n",
       "2  https://www2.hm.com/en_us/productpage.10368120...  56.99  Available   \n",
       "3  https://www2.hm.com/en_us/productpage.11129240...  29.99  Available   \n",
       "4  https://www2.hm.com/en_us/productpage.11194760...  29.99  Available   \n",
       "\n",
       "   comingSoon  colorName  isOnline  colors  \\\n",
       "0       False      Black      True  272628   \n",
       "1       False      Black      True  272628   \n",
       "2       False      Black      True  272628   \n",
       "3       False  Dark blue      True  393B47   \n",
       "4       False      White      True  FFFFFF   \n",
       "\n",
       "                                         colorShades  newArrival  \\\n",
       "0                                           Charcoal       False   \n",
       "1                                           Charcoal       False   \n",
       "2                                           Charcoal       False   \n",
       "3  Bright blue|Cobalt blue|Dark blue|Indigo|Navy ...       False   \n",
       "4                                                NaN       False   \n",
       "\n",
       "          mainCatCode                                            details  \\\n",
       "0   men_shoes_dressed  Derby shoes with open lacing at front. Canvas ...   \n",
       "1  men_shoes_slippers  Slippers in napped fabric. Decorative seam at ...   \n",
       "2   men_shoes_dressed  Derby shoes in soft faux suede with open lacin...   \n",
       "3  men_shoes_slippers  Slippers in woven fabric with a moccasin seam ...   \n",
       "4  men_shoes_sneakers  Sneakers with a padded upper edge and tongue, ...   \n",
       "\n",
       "                                           materials  \n",
       "0  COMPOSITION\\nSole:Thermoplastic rubber 100%\\nU...  \n",
       "1  COMPOSITION\\nLining:Polyester 100%\\nUpper:Poly...  \n",
       "2  COMPOSITION\\nLining and insole:Cotton 100%\\nUp...  \n",
       "3  COMPOSITION\\nLining:Polyester 100%\\nUpper:Poly...  \n",
       "4  COMPOSITION\\nLining:Polyester 100%\\nUpper:Poly...  "
      ]
     },
     "metadata": {},
     "output_type": "display_data"
    },
    {
     "name": "stdout",
     "output_type": "stream",
     "text": [
      "-----\n",
      "\n",
      "El DataFrame tiene 9677 filas y 16 columnas.\n",
      "-----\n",
      "\n",
      "El número de filas duplicadas es 0\n",
      "-----\n",
      "\n",
      "Información del DataFrame:\n",
      "<class 'pandas.core.frame.DataFrame'>\n",
      "RangeIndex: 9677 entries, 0 to 9676\n",
      "Data columns (total 16 columns):\n",
      " #   Column       Non-Null Count  Dtype  \n",
      "---  ------       --------------  -----  \n",
      " 0   Unnamed: 0   9677 non-null   int64  \n",
      " 1   productId    9677 non-null   int64  \n",
      " 2   productName  9677 non-null   object \n",
      " 3   brandName    9677 non-null   object \n",
      " 4   url          9677 non-null   object \n",
      " 5   price        9677 non-null   float64\n",
      " 6   stockState   9677 non-null   object \n",
      " 7   comingSoon   9677 non-null   bool   \n",
      " 8   colorName    9677 non-null   object \n",
      " 9   isOnline     9677 non-null   bool   \n",
      " 10  colors       9677 non-null   object \n",
      " 11  colorShades  6511 non-null   object \n",
      " 12  newArrival   9677 non-null   bool   \n",
      " 13  mainCatCode  9677 non-null   object \n",
      " 14  details      9676 non-null   object \n",
      " 15  materials    9518 non-null   object \n",
      "dtypes: bool(3), float64(1), int64(2), object(10)\n",
      "memory usage: 1011.3+ KB\n",
      "-----\n",
      "\n",
      "Estadísticas descriptivas:\n"
     ]
    },
    {
     "data": {
      "text/html": [
       "<div>\n",
       "<style scoped>\n",
       "    .dataframe tbody tr th:only-of-type {\n",
       "        vertical-align: middle;\n",
       "    }\n",
       "\n",
       "    .dataframe tbody tr th {\n",
       "        vertical-align: top;\n",
       "    }\n",
       "\n",
       "    .dataframe thead th {\n",
       "        text-align: right;\n",
       "    }\n",
       "</style>\n",
       "<table border=\"1\" class=\"dataframe\">\n",
       "  <thead>\n",
       "    <tr style=\"text-align: right;\">\n",
       "      <th></th>\n",
       "      <th>count</th>\n",
       "      <th>mean</th>\n",
       "      <th>std</th>\n",
       "      <th>min</th>\n",
       "      <th>25%</th>\n",
       "      <th>50%</th>\n",
       "      <th>75%</th>\n",
       "      <th>max</th>\n",
       "    </tr>\n",
       "  </thead>\n",
       "  <tbody>\n",
       "    <tr>\n",
       "      <th>Unnamed: 0</th>\n",
       "      <td>9677.0</td>\n",
       "      <td>4.838000e+03</td>\n",
       "      <td>2.793654e+03</td>\n",
       "      <td>0.000000e+00</td>\n",
       "      <td>2.419000e+03</td>\n",
       "      <td>4.838000e+03</td>\n",
       "      <td>7.257000e+03</td>\n",
       "      <td>9.676000e+03</td>\n",
       "    </tr>\n",
       "    <tr>\n",
       "      <th>productId</th>\n",
       "      <td>9677.0</td>\n",
       "      <td>1.188702e+09</td>\n",
       "      <td>1.206040e+08</td>\n",
       "      <td>1.077270e+08</td>\n",
       "      <td>1.198945e+09</td>\n",
       "      <td>1.230524e+09</td>\n",
       "      <td>1.244770e+09</td>\n",
       "      <td>1.280785e+09</td>\n",
       "    </tr>\n",
       "    <tr>\n",
       "      <th>price</th>\n",
       "      <td>9677.0</td>\n",
       "      <td>3.421509e+01</td>\n",
       "      <td>2.826266e+01</td>\n",
       "      <td>3.990000e+00</td>\n",
       "      <td>1.899000e+01</td>\n",
       "      <td>2.999000e+01</td>\n",
       "      <td>3.999000e+01</td>\n",
       "      <td>4.690000e+02</td>\n",
       "    </tr>\n",
       "  </tbody>\n",
       "</table>\n",
       "</div>"
      ],
      "text/plain": [
       "             count          mean           std           min           25%  \\\n",
       "Unnamed: 0  9677.0  4.838000e+03  2.793654e+03  0.000000e+00  2.419000e+03   \n",
       "productId   9677.0  1.188702e+09  1.206040e+08  1.077270e+08  1.198945e+09   \n",
       "price       9677.0  3.421509e+01  2.826266e+01  3.990000e+00  1.899000e+01   \n",
       "\n",
       "                     50%           75%           max  \n",
       "Unnamed: 0  4.838000e+03  7.257000e+03  9.676000e+03  \n",
       "productId   1.230524e+09  1.244770e+09  1.280785e+09  \n",
       "price       2.999000e+01  3.999000e+01  4.690000e+02  "
      ]
     },
     "metadata": {},
     "output_type": "display_data"
    }
   ],
   "source": [
    "df_prod = apertura_exploracion(\"brand_products\")"
   ]
  },
  {
   "cell_type": "code",
   "execution_count": 4,
   "metadata": {},
   "outputs": [],
   "source": [
    "df_prod = df_prod.drop(columns=['Unnamed: 0'])"
   ]
  },
  {
   "cell_type": "code",
   "execution_count": 5,
   "metadata": {},
   "outputs": [
    {
     "data": {
      "text/plain": [
       "9033    COMPOSITION\\nShell:Polyamide 85%, Spandex 15%\\...\n",
       "5166    COMPOSITION\\nShell:Cotton 60%, Polyester 40%\\n...\n",
       "1513    COMPOSITION\\nCotton 100% , Material:\\nCotton ,...\n",
       "13      COMPOSITION\\nSole:Thermoplastic rubber 100%\\nL...\n",
       "2716    COMPOSITION\\nShell:Polyester 87%, Wool 13%\\nLi...\n",
       "Name: materials, dtype: object"
      ]
     },
     "execution_count": 5,
     "metadata": {},
     "output_type": "execute_result"
    }
   ],
   "source": [
    "df_prod['materials'].sample(5)"
   ]
  },
  {
   "cell_type": "code",
   "execution_count": 6,
   "metadata": {},
   "outputs": [],
   "source": [
    "#Crear bucle para que cuando 'organic', 'recycled' lo marque\n",
    "\n",
    "df_prod['recycled'] = df_prod['materials'].apply(\n",
    "    lambda x: 'Yes' if 'recycled' in str(x).lower() else 'No')"
   ]
  },
  {
   "cell_type": "code",
   "execution_count": 7,
   "metadata": {},
   "outputs": [],
   "source": [
    "df_prod['organic'] = df_prod['materials'].apply(\n",
    "    lambda x: 'Yes' if 'organic' in str(x).lower() else 'No')"
   ]
  },
  {
   "cell_type": "code",
   "execution_count": 8,
   "metadata": {},
   "outputs": [
    {
     "data": {
      "text/plain": [
       "recycled\n",
       "Yes    5869\n",
       "No     3808\n",
       "Name: count, dtype: int64"
      ]
     },
     "execution_count": 8,
     "metadata": {},
     "output_type": "execute_result"
    }
   ],
   "source": [
    "df_prod['recycled'].value_counts()"
   ]
  },
  {
   "cell_type": "code",
   "execution_count": 9,
   "metadata": {},
   "outputs": [
    {
     "data": {
      "text/plain": [
       "organic\n",
       "No     9522\n",
       "Yes     155\n",
       "Name: count, dtype: int64"
      ]
     },
     "execution_count": 9,
     "metadata": {},
     "output_type": "execute_result"
    }
   ],
   "source": [
    "df_prod['organic'].value_counts()"
   ]
  },
  {
   "cell_type": "code",
   "execution_count": 10,
   "metadata": {},
   "outputs": [
    {
     "data": {
      "text/plain": [
       "0                  Black\n",
       "1                  Black\n",
       "2                  Black\n",
       "3              Dark blue\n",
       "4                  White\n",
       "              ...       \n",
       "9672               Beige\n",
       "9673    Light denim blue\n",
       "9674         Powder pink\n",
       "9675         Beige/black\n",
       "9676               Brown\n",
       "Name: colorName, Length: 9677, dtype: object"
      ]
     },
     "execution_count": 10,
     "metadata": {},
     "output_type": "execute_result"
    }
   ],
   "source": [
    "df_prod['colorName']"
   ]
  },
  {
   "cell_type": "code",
   "execution_count": 11,
   "metadata": {},
   "outputs": [],
   "source": [
    "#for columna in df_prod:\n",
    "    #print(f'La columna {columna} tiene estos valores únicos:')\n",
    "    #print(df_prod[columna].unique())\n",
    "    #print('----------------------------')"
   ]
  },
  {
   "cell_type": "code",
   "execution_count": 12,
   "metadata": {},
   "outputs": [],
   "source": [
    "#Quitamos isOnline porque solo tiene un valor único\n",
    "df_prod = df_prod.drop(columns='isOnline')"
   ]
  },
  {
   "cell_type": "code",
   "execution_count": 13,
   "metadata": {},
   "outputs": [
    {
     "data": {
      "text/plain": [
       "Index(['productId', 'productName', 'brandName', 'url', 'price', 'stockState',\n",
       "       'comingSoon', 'colorName', 'colors', 'colorShades', 'newArrival',\n",
       "       'mainCatCode', 'details', 'materials', 'recycled', 'organic'],\n",
       "      dtype='object')"
      ]
     },
     "execution_count": 13,
     "metadata": {},
     "output_type": "execute_result"
    }
   ],
   "source": [
    "df_prod.columns"
   ]
  },
  {
   "cell_type": "code",
   "execution_count": 14,
   "metadata": {},
   "outputs": [
    {
     "data": {
      "text/plain": [
       "mainCatCode\n",
       "ladies_cardigansjumpers_jumpers         361\n",
       "men_shirts_casual                       250\n",
       "ladies_dresses_shortdresses             170\n",
       "ladies_tops_longsleeve                  164\n",
       "ladies_tops_shortsleeve                 162\n",
       "                                       ... \n",
       "sportswear_men_activity_hiking            1\n",
       "beauty_brushestools_skincaretools         1\n",
       "men_hoodiessweatshirts                    1\n",
       "ladies_shoes                              1\n",
       "sportswear_women_clothing_tops_tanks      1\n",
       "Name: count, Length: 355, dtype: int64"
      ]
     },
     "execution_count": 14,
     "metadata": {},
     "output_type": "execute_result"
    }
   ],
   "source": [
    "df_prod[\"mainCatCode\"].value_counts()"
   ]
  },
  {
   "cell_type": "code",
   "execution_count": 15,
   "metadata": {},
   "outputs": [],
   "source": [
    "\n",
    "# Separar la columna 'categoria' por el carácter \"_\" en columnas nuevas\n",
    "df_split = df_prod[\"mainCatCode\"].str.split(\"_\", expand=True)\n",
    "\n",
    "# Renombrar las nuevas columnas con nombres genéricos\n",
    "df_split.columns = [f\"nivel_{i+1}\" for i in range(df_split.shape[1])]\n",
    "\n",
    "# Unir al DataFrame original \n",
    "df_prod= pd.concat([df_prod, df_split], axis=1)\n"
   ]
  },
  {
   "cell_type": "code",
   "execution_count": 16,
   "metadata": {},
   "outputs": [
    {
     "data": {
      "text/html": [
       "<div>\n",
       "<style scoped>\n",
       "    .dataframe tbody tr th:only-of-type {\n",
       "        vertical-align: middle;\n",
       "    }\n",
       "\n",
       "    .dataframe tbody tr th {\n",
       "        vertical-align: top;\n",
       "    }\n",
       "\n",
       "    .dataframe thead th {\n",
       "        text-align: right;\n",
       "    }\n",
       "</style>\n",
       "<table border=\"1\" class=\"dataframe\">\n",
       "  <thead>\n",
       "    <tr style=\"text-align: right;\">\n",
       "      <th></th>\n",
       "      <th>nivel_1</th>\n",
       "      <th>nivel_2</th>\n",
       "      <th>nivel_3</th>\n",
       "      <th>nivel_4</th>\n",
       "      <th>nivel_5</th>\n",
       "    </tr>\n",
       "  </thead>\n",
       "  <tbody>\n",
       "    <tr>\n",
       "      <th>1548</th>\n",
       "      <td>men</td>\n",
       "      <td>jacketscoats</td>\n",
       "      <td>jackets</td>\n",
       "      <td>None</td>\n",
       "      <td>None</td>\n",
       "    </tr>\n",
       "    <tr>\n",
       "      <th>768</th>\n",
       "      <td>men</td>\n",
       "      <td>cardigansjumpers</td>\n",
       "      <td>cardigans</td>\n",
       "      <td>None</td>\n",
       "      <td>None</td>\n",
       "    </tr>\n",
       "    <tr>\n",
       "      <th>4859</th>\n",
       "      <td>ladies</td>\n",
       "      <td>swimwear</td>\n",
       "      <td>swimsuits</td>\n",
       "      <td>None</td>\n",
       "      <td>None</td>\n",
       "    </tr>\n",
       "    <tr>\n",
       "      <th>9132</th>\n",
       "      <td>ladies</td>\n",
       "      <td>basics</td>\n",
       "      <td>tops</td>\n",
       "      <td>vests</td>\n",
       "      <td>None</td>\n",
       "    </tr>\n",
       "    <tr>\n",
       "      <th>3953</th>\n",
       "      <td>ladies</td>\n",
       "      <td>basics</td>\n",
       "      <td>tops</td>\n",
       "      <td>longsleeve</td>\n",
       "      <td>None</td>\n",
       "    </tr>\n",
       "    <tr>\n",
       "      <th>2886</th>\n",
       "      <td>ladies</td>\n",
       "      <td>tops</td>\n",
       "      <td>shortsleeve</td>\n",
       "      <td>None</td>\n",
       "      <td>None</td>\n",
       "    </tr>\n",
       "    <tr>\n",
       "      <th>3477</th>\n",
       "      <td>ladies</td>\n",
       "      <td>accessories</td>\n",
       "      <td>scarves</td>\n",
       "      <td>None</td>\n",
       "      <td>None</td>\n",
       "    </tr>\n",
       "    <tr>\n",
       "      <th>92</th>\n",
       "      <td>men</td>\n",
       "      <td>shoes</td>\n",
       "      <td>loafers</td>\n",
       "      <td>None</td>\n",
       "      <td>None</td>\n",
       "    </tr>\n",
       "    <tr>\n",
       "      <th>9068</th>\n",
       "      <td>ladies</td>\n",
       "      <td>tops</td>\n",
       "      <td>printed</td>\n",
       "      <td>tshirts</td>\n",
       "      <td>None</td>\n",
       "    </tr>\n",
       "    <tr>\n",
       "      <th>6531</th>\n",
       "      <td>ladies</td>\n",
       "      <td>tops</td>\n",
       "      <td>longsleeve</td>\n",
       "      <td>None</td>\n",
       "      <td>None</td>\n",
       "    </tr>\n",
       "  </tbody>\n",
       "</table>\n",
       "</div>"
      ],
      "text/plain": [
       "     nivel_1           nivel_2      nivel_3     nivel_4 nivel_5\n",
       "1548     men      jacketscoats      jackets        None    None\n",
       "768      men  cardigansjumpers    cardigans        None    None\n",
       "4859  ladies          swimwear    swimsuits        None    None\n",
       "9132  ladies            basics         tops       vests    None\n",
       "3953  ladies            basics         tops  longsleeve    None\n",
       "2886  ladies              tops  shortsleeve        None    None\n",
       "3477  ladies       accessories      scarves        None    None\n",
       "92       men             shoes      loafers        None    None\n",
       "9068  ladies              tops      printed     tshirts    None\n",
       "6531  ladies              tops   longsleeve        None    None"
      ]
     },
     "execution_count": 16,
     "metadata": {},
     "output_type": "execute_result"
    }
   ],
   "source": [
    "df_prod[['nivel_1', 'nivel_2', 'nivel_3', 'nivel_4', 'nivel_5']].sample(10)"
   ]
  },
  {
   "cell_type": "code",
   "execution_count": 17,
   "metadata": {},
   "outputs": [
    {
     "data": {
      "text/plain": [
       "nivel_1\n",
       "ladies        6395\n",
       "men           2236\n",
       "sportswear     566\n",
       "beauty         226\n",
       "Ladies         181\n",
       "MEN             55\n",
       "home            13\n",
       "kids             5\n",
       "Name: count, dtype: int64"
      ]
     },
     "execution_count": 17,
     "metadata": {},
     "output_type": "execute_result"
    }
   ],
   "source": [
    "df_prod['nivel_1'].value_counts()\n"
   ]
  },
  {
   "cell_type": "code",
   "execution_count": 18,
   "metadata": {},
   "outputs": [],
   "source": [
    "# eliminar los tres ultimos niveles porque no aportan info relevante en este caso\n",
    "cols_to_drop = df_prod.columns[-3:] \n",
    "df_sin_ultimos_niveles = df_prod.drop(columns=cols_to_drop)\n"
   ]
  },
  {
   "cell_type": "code",
   "execution_count": 19,
   "metadata": {},
   "outputs": [],
   "source": [
    "df_prod = df_sin_ultimos_niveles"
   ]
  },
  {
   "cell_type": "code",
   "execution_count": 20,
   "metadata": {},
   "outputs": [],
   "source": [
    "lista = ['nivel_1', 'nivel_2']\n",
    "for col in lista:\n",
    "    df_prod[col] = df_prod[col].str.capitalize()"
   ]
  },
  {
   "cell_type": "code",
   "execution_count": 21,
   "metadata": {},
   "outputs": [],
   "source": [
    "# Lista para renombrar las columnas\n",
    "columnas = ['productId', 'productName', 'brandName', 'url', 'price', 'stockState',\n",
    "       'comingSoon', 'colorName', 'colors', 'colorShades', 'newArrival',\n",
    "       'mainCatCode', 'details', 'materials', 'recycled', 'organic',\n",
    "       'costumerSegment', 'productType']"
   ]
  },
  {
   "cell_type": "code",
   "execution_count": 22,
   "metadata": {},
   "outputs": [],
   "source": [
    "df_prod.columns = columnas"
   ]
  },
  {
   "cell_type": "code",
   "execution_count": 23,
   "metadata": {},
   "outputs": [
    {
     "data": {
      "text/plain": [
       "Index(['productId', 'productName', 'brandName', 'url', 'price', 'stockState',\n",
       "       'comingSoon', 'colorName', 'colors', 'colorShades', 'newArrival',\n",
       "       'mainCatCode', 'details', 'materials', 'recycled', 'organic',\n",
       "       'costumerSegment', 'productType'],\n",
       "      dtype='object')"
      ]
     },
     "execution_count": 23,
     "metadata": {},
     "output_type": "execute_result"
    }
   ],
   "source": [
    "df_prod.columns"
   ]
  },
  {
   "cell_type": "code",
   "execution_count": 24,
   "metadata": {},
   "outputs": [],
   "source": [
    "import re"
   ]
  },
  {
   "cell_type": "code",
   "execution_count": 25,
   "metadata": {},
   "outputs": [
    {
     "name": "stdout",
     "output_type": "stream",
     "text": [
      "Productos con menos del 10% de material reciclado: 9295\n",
      "    productId  total_recycled_percent\n",
      "0   834333001                    38.0\n",
      "1  1258600003                    37.0\n",
      "2  1036812001                    33.0\n",
      "3  1112924002                    69.0\n",
      "4  1119476020                    16.0\n"
     ]
    }
   ],
   "source": [
    "# Función para extraer TODOS los porcentajes de materiales reciclados\n",
    "def extract_recycled_percentages(text):\n",
    "    if pd.isna(text):\n",
    "        return []\n",
    "    \n",
    "    # Buscar todos los patrones: \"X% Recycled [material]\"\n",
    "    matches = re.findall(r\"(\\d+)%\\s*Recycled\\s*([a-zA-Z\\s-]+)\", text)\n",
    "    \n",
    "    # Convertir a lista de diccionarios: [{\"material\": \"cotton\", \"percent\": 1.0}, ...]\n",
    "    results = []\n",
    "    for percent, material in matches:\n",
    "        results.append({\n",
    "            \"material\": material.strip().lower(),\n",
    "            \"percent\": float(percent)\n",
    "        })\n",
    "    \n",
    "    return results\n",
    "\n",
    "# Aplicar la función y crear nuevas columnas\n",
    "df_prod[\"recycled_materials\"] = df_prod[\"materials\"].apply(extract_recycled_percentages)\n",
    "\n",
    "# Calcular el porcentaje TOTAL de reciclado por producto\n",
    "df_prod[\"total_recycled_percent\"] = df_prod[\"recycled_materials\"].apply(\n",
    "    lambda x: sum(item[\"percent\"] for item in x) if x else 0.0\n",
    ")\n",
    "\n",
    "# Filtrar productos con bajo % de reciclado (ej. < 10%)\n",
    "low_recycled = df_prod[df_prod[\"total_recycled_percent\"] < 100]\n",
    "\n",
    "# Mostrar resultados\n",
    "print(f\"Productos con menos del 10% de material reciclado: {len(low_recycled)}\")\n",
    "print(low_recycled[[\"productId\", \"total_recycled_percent\"]].head())"
   ]
  },
  {
   "cell_type": "code",
   "execution_count": 26,
   "metadata": {},
   "outputs": [
    {
     "data": {
      "text/html": [
       "<div>\n",
       "<style scoped>\n",
       "    .dataframe tbody tr th:only-of-type {\n",
       "        vertical-align: middle;\n",
       "    }\n",
       "\n",
       "    .dataframe tbody tr th {\n",
       "        vertical-align: top;\n",
       "    }\n",
       "\n",
       "    .dataframe thead th {\n",
       "        text-align: right;\n",
       "    }\n",
       "</style>\n",
       "<table border=\"1\" class=\"dataframe\">\n",
       "  <thead>\n",
       "    <tr style=\"text-align: right;\">\n",
       "      <th></th>\n",
       "      <th>productId</th>\n",
       "      <th>total_recycled_percent</th>\n",
       "      <th>materials</th>\n",
       "    </tr>\n",
       "  </thead>\n",
       "  <tbody>\n",
       "    <tr>\n",
       "      <th>0</th>\n",
       "      <td>834333001</td>\n",
       "      <td>38.0</td>\n",
       "      <td>COMPOSITION\\nSole:Thermoplastic rubber 100%\\nU...</td>\n",
       "    </tr>\n",
       "    <tr>\n",
       "      <th>1</th>\n",
       "      <td>1258600003</td>\n",
       "      <td>37.0</td>\n",
       "      <td>COMPOSITION\\nLining:Polyester 100%\\nUpper:Poly...</td>\n",
       "    </tr>\n",
       "    <tr>\n",
       "      <th>2</th>\n",
       "      <td>1036812001</td>\n",
       "      <td>33.0</td>\n",
       "      <td>COMPOSITION\\nLining and insole:Cotton 100%\\nUp...</td>\n",
       "    </tr>\n",
       "    <tr>\n",
       "      <th>3</th>\n",
       "      <td>1112924002</td>\n",
       "      <td>69.0</td>\n",
       "      <td>COMPOSITION\\nLining:Polyester 100%\\nUpper:Poly...</td>\n",
       "    </tr>\n",
       "    <tr>\n",
       "      <th>4</th>\n",
       "      <td>1119476020</td>\n",
       "      <td>16.0</td>\n",
       "      <td>COMPOSITION\\nLining:Polyester 100%\\nUpper:Poly...</td>\n",
       "    </tr>\n",
       "    <tr>\n",
       "      <th>5</th>\n",
       "      <td>1119476021</td>\n",
       "      <td>19.0</td>\n",
       "      <td>COMPOSITION\\nLining:Polyester 100%\\nSole:Rubbe...</td>\n",
       "    </tr>\n",
       "    <tr>\n",
       "      <th>6</th>\n",
       "      <td>1238685001</td>\n",
       "      <td>55.0</td>\n",
       "      <td>COMPOSITION\\nLining:Cotton 100%\\nLining:Polyur...</td>\n",
       "    </tr>\n",
       "    <tr>\n",
       "      <th>7</th>\n",
       "      <td>1072672004</td>\n",
       "      <td>45.0</td>\n",
       "      <td>COMPOSITION\\nUpper:Polyurethane 100%\\nSole:The...</td>\n",
       "    </tr>\n",
       "    <tr>\n",
       "      <th>8</th>\n",
       "      <td>1250120001</td>\n",
       "      <td>32.0</td>\n",
       "      <td>COMPOSITION\\nLining:Cotton 100%\\nSole:Rubber 1...</td>\n",
       "    </tr>\n",
       "    <tr>\n",
       "      <th>9</th>\n",
       "      <td>1250116001</td>\n",
       "      <td>15.0</td>\n",
       "      <td>COMPOSITION\\nLining:Polyurethane 100%\\nLining:...</td>\n",
       "    </tr>\n",
       "  </tbody>\n",
       "</table>\n",
       "</div>"
      ],
      "text/plain": [
       "    productId  total_recycled_percent  \\\n",
       "0   834333001                    38.0   \n",
       "1  1258600003                    37.0   \n",
       "2  1036812001                    33.0   \n",
       "3  1112924002                    69.0   \n",
       "4  1119476020                    16.0   \n",
       "5  1119476021                    19.0   \n",
       "6  1238685001                    55.0   \n",
       "7  1072672004                    45.0   \n",
       "8  1250120001                    32.0   \n",
       "9  1250116001                    15.0   \n",
       "\n",
       "                                           materials  \n",
       "0  COMPOSITION\\nSole:Thermoplastic rubber 100%\\nU...  \n",
       "1  COMPOSITION\\nLining:Polyester 100%\\nUpper:Poly...  \n",
       "2  COMPOSITION\\nLining and insole:Cotton 100%\\nUp...  \n",
       "3  COMPOSITION\\nLining:Polyester 100%\\nUpper:Poly...  \n",
       "4  COMPOSITION\\nLining:Polyester 100%\\nUpper:Poly...  \n",
       "5  COMPOSITION\\nLining:Polyester 100%\\nSole:Rubbe...  \n",
       "6  COMPOSITION\\nLining:Cotton 100%\\nLining:Polyur...  \n",
       "7  COMPOSITION\\nUpper:Polyurethane 100%\\nSole:The...  \n",
       "8  COMPOSITION\\nLining:Cotton 100%\\nSole:Rubber 1...  \n",
       "9  COMPOSITION\\nLining:Polyurethane 100%\\nLining:...  "
      ]
     },
     "execution_count": 26,
     "metadata": {},
     "output_type": "execute_result"
    }
   ],
   "source": [
    "low_recycled[[\"productId\", \"total_recycled_percent\", 'materials']].head(10)"
   ]
  },
  {
   "cell_type": "code",
   "execution_count": 27,
   "metadata": {},
   "outputs": [
    {
     "data": {
      "text/plain": [
       "Index(['productId', 'productName', 'brandName', 'url', 'price', 'stockState',\n",
       "       'comingSoon', 'colorName', 'colors', 'colorShades', 'newArrival',\n",
       "       'mainCatCode', 'details', 'materials', 'recycled', 'organic',\n",
       "       'costumerSegment', 'productType', 'recycled_materials',\n",
       "       'total_recycled_percent'],\n",
       "      dtype='object')"
      ]
     },
     "execution_count": 27,
     "metadata": {},
     "output_type": "execute_result"
    }
   ],
   "source": [
    "df_prod.columns"
   ]
  },
  {
   "cell_type": "code",
   "execution_count": 28,
   "metadata": {},
   "outputs": [],
   "source": [
    "def camel_to_snake(name):\n",
    "    name = re.sub('(.)([A-Z][a-z]+)', r'\\1_\\2', name)\n",
    "    name = re.sub('([a-z0-9])([A-Z])', r'\\1_\\2', name)\n",
    "    return name.lower()"
   ]
  },
  {
   "cell_type": "code",
   "execution_count": 29,
   "metadata": {},
   "outputs": [],
   "source": [
    "df_prod.columns = [camel_to_snake(col) for col in df_prod.columns]"
   ]
  },
  {
   "cell_type": "code",
   "execution_count": 30,
   "metadata": {},
   "outputs": [
    {
     "data": {
      "text/plain": [
       "Index(['product_id', 'product_name', 'brand_name', 'url', 'price',\n",
       "       'stock_state', 'coming_soon', 'color_name', 'colors', 'color_shades',\n",
       "       'new_arrival', 'main_cat_code', 'details', 'materials', 'recycled',\n",
       "       'organic', 'costumer_segment', 'product_type', 'recycled_materials',\n",
       "       'total_recycled_percent'],\n",
       "      dtype='object')"
      ]
     },
     "execution_count": 30,
     "metadata": {},
     "output_type": "execute_result"
    }
   ],
   "source": [
    "df_prod.columns"
   ]
  },
  {
   "cell_type": "code",
   "execution_count": 31,
   "metadata": {},
   "outputs": [],
   "source": [
    "df_prod.to_csv('../files/clean_brand_products.csv', index=False)"
   ]
  }
 ],
 "metadata": {
  "kernelspec": {
   "display_name": "base",
   "language": "python",
   "name": "python3"
  },
  "language_info": {
   "codemirror_mode": {
    "name": "ipython",
    "version": 3
   },
   "file_extension": ".py",
   "mimetype": "text/x-python",
   "name": "python",
   "nbconvert_exporter": "python",
   "pygments_lexer": "ipython3",
   "version": "3.12.7"
  }
 },
 "nbformat": 4,
 "nbformat_minor": 2
}
